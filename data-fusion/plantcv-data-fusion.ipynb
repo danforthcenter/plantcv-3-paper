{
 "cells": [
  {
   "cell_type": "code",
   "execution_count": 1,
   "id": "pacific-comparison",
   "metadata": {},
   "outputs": [],
   "source": [
    "# STEP 1: Import package code\n",
    "from plantcv import plantcv as pcv\n",
    "import matplotlib"
   ]
  },
  {
   "cell_type": "code",
   "execution_count": 2,
   "id": "peripheral-pointer",
   "metadata": {},
   "outputs": [],
   "source": [
    "# STEP 2: Set global variables\n",
    "matplotlib.rcParams[\"figure.figsize\"] = [8,8]\n",
    "\n",
    "nir_img = \"img1_nir.png\"\n",
    "rgb_img = \"img2_rgb.png\""
   ]
  },
  {
   "cell_type": "code",
   "execution_count": 3,
   "id": "communist-judges",
   "metadata": {},
   "outputs": [],
   "source": [
    "# STEP 3: Read RGB and NIR images\n",
    "im_rgb, path_rgb, filename_rgb = pcv.readimage(filename=rgb_img, mode = \"rgb\") \n",
    "im_nir, path_nir, filename_nir = pcv.readimage(filename=nir_img, mode = \"native\") "
   ]
  },
  {
   "cell_type": "code",
   "execution_count": 7,
   "id": "heated-medication",
   "metadata": {
    "scrolled": true
   },
   "outputs": [],
   "source": [
    "# # STEP 4: Fuse two images\n",
    "# wv_nir = [800.0] # 800nm is a representative wavelength of near-infrared\n",
    "# wv_rgb = [480.0, 550.0, 670.0] # 480nm, 550nm, and 670nm are representative wavelengths for blue, green, and red, respectively \n",
    "\n",
    "# fused_img = pcv.image_fusion(nir_img, rgb_img, wv_nir, wv_rgb, array_type=\"nir-vis_fusion\", filename=\"fused_im\")"
   ]
  },
  {
   "cell_type": "code",
   "execution_count": null,
   "id": "challenging-hypothetical",
   "metadata": {},
   "outputs": [],
   "source": []
  }
 ],
 "metadata": {
  "kernelspec": {
   "display_name": "Python (Data Science)",
   "language": "python",
   "name": "python_ds"
  },
  "language_info": {
   "codemirror_mode": {
    "name": "ipython",
    "version": 3
   },
   "file_extension": ".py",
   "mimetype": "text/x-python",
   "name": "python",
   "nbconvert_exporter": "python",
   "pygments_lexer": "ipython3",
   "version": "3.8.8"
  }
 },
 "nbformat": 4,
 "nbformat_minor": 5
}
