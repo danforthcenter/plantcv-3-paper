{
 "cells": [
  {
   "cell_type": "code",
   "execution_count": 1,
   "id": "basic-exploration",
   "metadata": {},
   "outputs": [],
   "source": [
    "# STEP 1: Import package code\n",
    "from plantcv import plantcv as pcv"
   ]
  },
  {
   "cell_type": "code",
   "execution_count": null,
   "id": "imperial-california",
   "metadata": {},
   "outputs": [],
   "source": [
    "# STEP 2: Set global variables\n",
    "hyper_img = \"\""
   ]
  },
  {
   "cell_type": "code",
   "execution_count": null,
   "id": "lasting-digest",
   "metadata": {},
   "outputs": [],
   "source": [
    "# STEP 3: Read hyper-spectral image\n",
    "img, path, filename = pcv.readimage(filename=hyper_img, mode=\"envi\")"
   ]
  }
 ],
 "metadata": {
  "kernelspec": {
   "display_name": "Python (Data Science)",
   "language": "python",
   "name": "python_ds"
  },
  "language_info": {
   "codemirror_mode": {
    "name": "ipython",
    "version": 3
   },
   "file_extension": ".py",
   "mimetype": "text/x-python",
   "name": "python",
   "nbconvert_exporter": "python",
   "pygments_lexer": "ipython3",
   "version": "3.8.8"
  }
 },
 "nbformat": 4,
 "nbformat_minor": 5
}
