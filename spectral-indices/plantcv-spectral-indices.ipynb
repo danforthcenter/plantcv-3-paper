{
 "cells": [
  {
   "cell_type": "code",
   "execution_count": null,
   "id": "serious-mailman",
   "metadata": {},
   "outputs": [],
   "source": [
    "# STEP 1: Import package code\n",
    "from plantcv import plantcv as pcv"
   ]
  },
  {
   "cell_type": "code",
   "execution_count": null,
   "id": "impossible-replication",
   "metadata": {},
   "outputs": [],
   "source": [
    "# STEP 2: Set global variables\n",
    "hyper_img = \"ee362e84-c861-4f0d-abbb-215ac58eed60_data\""
   ]
  },
  {
   "cell_type": "code",
   "execution_count": null,
   "id": "systematic-microphone",
   "metadata": {},
   "outputs": [],
   "source": [
    "# STEP 3: Read hyper-spectral image\n",
    "array = pcv.readimage(filename=hyper_img, mode=\"envi\")"
   ]
  },
  {
   "cell_type": "code",
   "execution_count": null,
   "id": "regulation-living",
   "metadata": {},
   "outputs": [],
   "source": [
    "# STEP 4: Show pseudo_rgb image\n",
    "pcv.plot_image(array.pseudo_rgb)"
   ]
  },
  {
   "cell_type": "code",
   "execution_count": null,
   "id": "romance-enclosure",
   "metadata": {
    "scrolled": true
   },
   "outputs": [],
   "source": [
    "# STEP 5: Calculate VI: NDVI\n",
    "pcv.params.debug = \"plot\"\n",
    "ndvi = pcv.spectral_index.ndvi(hsi=array, distance=20)"
   ]
  },
  {
   "cell_type": "code",
   "execution_count": null,
   "id": "oriented-valuation",
   "metadata": {},
   "outputs": [],
   "source": []
  }
 ],
 "metadata": {
  "kernelspec": {
   "display_name": "Python(PlantCV)",
   "language": "python",
   "name": "plantcv"
  },
  "language_info": {
   "codemirror_mode": {
    "name": "ipython",
    "version": 3
   },
   "file_extension": ".py",
   "mimetype": "text/x-python",
   "name": "python",
   "nbconvert_exporter": "python",
   "pygments_lexer": "ipython3",
   "version": "3.7.10"
  }
 },
 "nbformat": 4,
 "nbformat_minor": 5
}
